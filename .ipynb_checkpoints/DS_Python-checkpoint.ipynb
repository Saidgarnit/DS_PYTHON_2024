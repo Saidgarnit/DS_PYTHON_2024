{
 "cells": [
  {
   "cell_type": "code",
   "execution_count": 10,
   "id": "7a2a3f73",
   "metadata": {},
   "outputs": [
    {
     "name": "stdout",
     "output_type": "stream",
     "text": [
      "B N N B B B B B N B B N B B B N B B B B\n",
      "B N B B B B N N N B B B B N B B B N B N\n",
      "N N B B B N B B N B N B B B B N N B N B\n",
      "N N B N B N B N B B B B B N B B B N B B\n",
      "N B N B B N B B B B N B B B N B B B B B\n",
      "B N B B B B B B B B B B N B B B B N B B\n",
      "B B N N N B B N N B B B B B N B B B B B\n",
      "B B B N B B B B B N B N N B N N B B B N\n",
      "B N N B B B N B B B B B N B N N B B B N\n",
      "N B B B B N N B B N B B N B B B B B B B\n",
      "B B B B B N N B B N B N B N N B B B B B\n",
      "B B B B B N B N B B B N B B N B B N N B\n",
      "B B B B B B B N N B N B N B N B B B B B\n",
      "B N N N B B B B B B B B N B B N N N B B\n",
      "B B B B B B B B B B B B B B N B N B B B\n",
      "B B B N N B B N B B B B N B N B B B N B\n",
      "B B N B B B N N B B B B B B B B N N N B\n",
      "N B B B B N B B B N B B B N B B B B B B\n",
      "B B B B N B N N N B B N B N B B N B N N\n",
      "N B B B B N B B N B N B B B B N B B B B\n"
     ]
    },
    {
     "data": {
      "image/png": "[encoded data removed]",
      "text/plain": [
       "<Figure size 640x480 with 1 Axes>"
      ]
     },
     "metadata": {},
     "output_type": "display_data"
    }
   ],
   "source": [
    "import numpy as np\n",
    "import matplotlib.pyplot as plt\n",
    "\n",
    "class Grid:\n",
    "    def __init__(self, rows, cols, black_count):\n",
    "        self.rows = rows\n",
    "        self.cols = cols\n",
    "        self.grid = [['B' for _ in range(cols)] for _ in range(rows)]\n",
    "        self.generate_black_cells(black_count)\n",
    "\n",
    "    def generate_black_cells(self, black_count):\n",
    "        for _ in range(black_count):\n",
    "            row = np.random.randint(0, self.rows)\n",
    "            col = np.random.randint(0, self.cols)\n",
    "            self.grid[row][col] = 'N'\n",
    "\n",
    "    def get_cell(self, row, col):\n",
    "        return self.grid[row][col]\n",
    "\n",
    "    def set_cell(self, row, col, status):\n",
    "        self.grid[row][col] = status\n",
    "\n",
    "    def display(self):\n",
    "        for row in self.grid:\n",
    "            print(' '.join(row))\n",
    "\n",
    "    def plot(self):\n",
    "        plt.imshow([[0 if cell == 'B' else 1 for cell in row] for row in self.grid], cmap='binary')\n",
    "        plt.axis('off')\n",
    "        plt.show()\n",
    "\n",
    "# Exemple d'utilisation\n",
    "rows = 20\n",
    "cols = 20\n",
    "black_count = 130\n",
    "grid = Grid(rows, cols, black_count)\n",
    "grid.display()  # Afficher la grille dans la console\n",
    "grid.plot()  # Afficher la grille avec matplotlib\n",
    "\n"
   ]
  },
  {
   "cell_type": "code",
   "execution_count": 14,
   "id": "0037920f",
   "metadata": {},
   "outputs": [
    {
     "name": "stdout",
     "output_type": "stream",
     "text": [
      "True\n"
     ]
    }
   ],
   "source": [
    "def is_connected(grid):\n",
    "    def dfs(row, col):\n",
    "        visited.add((row, col))\n",
    "        for dr, dc in [(1, 0), (-1, 0), (0, 1), (0, -1)]:\n",
    "            new_row, new_col = row + dr, col + dc\n",
    "            if 0 <= new_row < rows and 0 <= new_col < cols and grid[new_row][new_col] == 'B' and (new_row, new_col) not in visited:\n",
    "                dfs(new_row, new_col)\n",
    "\n",
    "    rows = len(grid)\n",
    "    cols = len(grid[0])\n",
    "    visited = set()\n",
    "\n",
    "    # Trouver la première case blanche comme point de départ\n",
    "    for i in range(rows):\n",
    "        for j in range(cols):\n",
    "            if grid[i][j] == 'B':\n",
    "                start_row, start_col = i, j\n",
    "                break\n",
    "        else:\n",
    "            continue\n",
    "        break\n",
    "    else:\n",
    "        # Aucune case blanche trouvée\n",
    "        return False\n",
    "\n",
    "    # Parcours en profondeur à partir du point de départ\n",
    "    dfs(start_row, start_col)\n",
    "\n",
    "    # Vérifier si toutes les cases blanches ont été visitées\n",
    "    for i in range(rows):\n",
    "        for j in range(cols):\n",
    "            if grid[i][j] == 'B' and (i, j) not in visited:\n",
    "                return False\n",
    "\n",
    "    return True\n",
    "\n",
    "# Exemple d'utilisation\n",
    "grid = [\n",
    "    ['B', 'N', 'B', 'B'],\n",
    "    ['B', 'B', 'N', 'B'],\n",
    "    ['B', 'N', 'B', 'B'],\n",
    "    ['B', 'B', 'B', 'B']\n",
    "]\n",
    "\n",
    "print(is_connected(grid))  # Renvoie False\n"
   ]
  },
  {
   "cell_type": "code",
   "execution_count": 30,
   "id": "d8c68c6d",
   "metadata": {
    "scrolled": true
   },
   "outputs": [],
   "source": [
    "import numpy as np\n",
    "import matplotlib.pyplot as plt\n",
    "from collections import deque\n",
    "\n",
    "class TreeNode:\n",
    "    def __init__(self, position, path_so_far=None):\n",
    "        self.position = position\n",
    "        if path_so_far:\n",
    "            self.path = path_so_far + [position]\n",
    "        else:\n",
    "            self.path = [position]\n",
    "        self.children = []\n",
    "\n",
    "def find_paths(grid, start, end):\n",
    "    def is_valid_move(row, col):\n",
    "        return 0 <= row < len(grid) and 0 <= col < len(grid[0]) and grid[row][col] != 'X'\n",
    "\n",
    "    def explore_path(node):\n",
    "        row, col = node.position\n",
    "        if (row, col) == end:\n",
    "            paths.append(node.path)\n",
    "        else:\n",
    "            for dr, dc in [(1, 0), (-1, 0), (0, 1), (0, -1)]:\n",
    "                new_row, new_col = row + dr, col + dc\n",
    "                if is_valid_move(new_row, new_col) and (new_row, new_col) not in visited:\n",
    "                    visited.add((new_row, new_col))\n",
    "                    child_node = TreeNode((new_row, new_col), node.path)\n",
    "                    node.children.append(child_node)\n",
    "                    explore_path(child_node)\n",
    "                    visited.remove((new_row, new_col))\n",
    "\n",
    "    paths = []\n",
    "    visited = set()\n",
    "    root = TreeNode(start)\n",
    "    visited.add(start)\n",
    "    explore_path(root)\n",
    "    return paths\n",
    "\n",
    "\n",
    "\n"
   ]
  },
  {
   "cell_type": "code",
   "execution_count": 31,
   "id": "811efe05",
   "metadata": {},
   "outputs": [],
   "source": [
    "def find_shortest_path(paths, grid):\n",
    "    # Filter out paths containing obstacles\n",
    "    valid_paths = [path for path in paths if all(grid[pos[0]][pos[1]] != 'X' for pos in path)]\n",
    "    if valid_paths:\n",
    "        shortest_path = min(valid_paths, key=len)\n",
    "        return shortest_path\n",
    "    else:\n",
    "        return None\n"
   ]
  },
  {
   "cell_type": "code",
   "execution_count": 35,
   "id": "9a10323e",
   "metadata": {},
   "outputs": [
    {
     "name": "stdout",
     "output_type": "stream",
     "text": [
      "Tous les chemins possibles vers la destination : [[(0, 0), (0, 1), (0, 2), (1, 2), (1, 3), (2, 3), (2, 4), (3, 4), (4, 4)], [(0, 0), (0, 1), (0, 2), (1, 2), (1, 3), (1, 4), (2, 4), (3, 4), (4, 4)]]\n",
      "Le chemin le plus court : [(0, 0), (0, 1), (0, 2), (1, 2), (1, 3), (2, 3), (2, 4), (3, 4), (4, 4)]\n"
     ]
    },
    {
     "data": {
      "image/png": "[encoded data removed]",
      "text/plain": [
       "<Figure size 640x480 with 1 Axes>"
      ]
     },
     "metadata": {},
     "output_type": "display_data"
    }
   ],
   "source": [
    "def display_grid_with_paths(grid, all_paths, shortest_path):\n",
    "    grid_np = np.zeros_like(grid, dtype=int)  \n",
    "\n",
    "    # Convert the grid into a numerical matrix for easier manipulation\n",
    "    for i in range(len(grid)):\n",
    "        for j in range(len(grid[0])):\n",
    "            if grid[i][j] == 'X':\n",
    "                grid_np[i][j] = -1  # Mark obstacles with -1\n",
    "            elif (i, j) in shortest_path:\n",
    "                grid_np[i][j] = 2  # Mark cells in the shortest path with 2\n",
    "            elif (i, j) in [p for path in all_paths for p in path]:\n",
    "                grid_np[i][j] = 1  # Mark other paths with 1\n",
    "\n",
    "    # Create the figure and axis for display\n",
    "    fig, ax = plt.subplots()\n",
    "\n",
    "    # Create a custom colormap where 0 (white) represents free space, 1 (light gray) represents other paths,\n",
    "    # and 2 (red) represents the shortest path\n",
    "    cmap = plt.matplotlib.colors.ListedColormap(['black', 'white', 'lightgray'])\n",
    "\n",
    "    # Display the grid\n",
    "    ax.matshow(grid_np, cmap=cmap)\n",
    "\n",
    "    # Display the grid with cell values\n",
    "    for i in range(len(grid_np)):\n",
    "        for j in range(len(grid_np[0])):\n",
    "            if grid_np[i][j] != -1:  # Do not display obstacles\n",
    "                ax.text(j, i, str(grid[i][j]), va='center', ha='center')\n",
    "\n",
    "    # Mark the start and end points\n",
    "    ax.text(shortest_path[0][1], shortest_path[0][0], '.', color='green', va='center', ha='center', fontweight='bold', fontsize=45)\n",
    "    ax.text(shortest_path[-1][1], shortest_path[-1][0], '.', color='red', va='center', ha='center', fontweight='bold', fontsize=45)\n",
    "\n",
    "\n",
    "    # Highlight the shortest path cells\n",
    "    for pos in shortest_path:\n",
    "        ax.add_patch(plt.Rectangle((pos[1] - 0.5, pos[0] - 0.5), 1, 1, color='red', alpha=0.5))\n",
    "\n",
    "    # Show the grid with the shortest path highlighted\n",
    "    plt.title('Chemin le plus court en rouge')\n",
    "    plt.show()\n",
    "\n",
    "# Example Usage\n",
    "grid = [\n",
    "    [' ', ' ', ' ', 'X', ' '],\n",
    "    [' ', 'X', '', ' ', 'X'],\n",
    "    [' ', ' ', 'X', ' ', ' '],\n",
    "    ['X', 'X', ' ', 'X', ' '],\n",
    "    [' ', ' ', ' ', ' ', ' ']\n",
    "]\n",
    "\n",
    "start = (0, 0)\n",
    "end = (4, 4)\n",
    "\n",
    "all_paths = find_paths(grid, start, end)\n",
    "shortest_path = find_shortest_path(all_paths, grid)\n",
    "print(\"Tous les chemins possibles vers la destination :\", all_paths)\n",
    "print(\"Le chemin le plus court :\", shortest_path)\n",
    "\n",
    "display_grid_with_paths(grid, all_paths, shortest_path)\n"
   ]
  },
  {
   "cell_type": "code",
   "execution_count": null,
   "id": "a92099e0",
   "metadata": {},
   "outputs": [],
   "source": []
  },
  {
   "cell_type": "code",
   "execution_count": null,
   "id": "f65b6781",
   "metadata": {},
   "outputs": [],
   "source": []
  }
 ],
 "metadata": {
  "kernelspec": {
   "display_name": "Python 3 (ipykernel)",
   "language": "python",
   "name": "python3"
  },
  "language_info": {
   "codemirror_mode": {
    "name": "ipython",
    "version": 3
   },
   "file_extension": ".py",
   "mimetype": "text/x-python",
   "name": "python",
   "nbconvert_exporter": "python",
   "pygments_lexer": "ipython3",
   "version": "3.11.5"
  }
 },
 "nbformat": 4,
 "nbformat_minor": 5
}
